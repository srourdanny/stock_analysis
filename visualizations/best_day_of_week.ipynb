{
 "cells": [
  {
   "cell_type": "code",
   "execution_count": 11,
   "metadata": {},
   "outputs": [],
   "source": [
    "import pandas as pd\n",
    "import datetime as dt\n",
    "import numpy as np\n",
    "\n",
    "from pathlib import Path\n",
    "\n",
    "import matplotlib.pyplot as plt\n",
    "from matplotlib.ticker import PercentFormatter\n",
    "\n",
    "# %matplotlib inline\n"
   ]
  },
  {
   "cell_type": "code",
   "execution_count": 12,
   "metadata": {},
   "outputs": [],
   "source": [
    "file_path = Path(\"../data/amzn_daily_splits.csv\")\n",
    "amzn_df = pd.read_csv(file_path, index_col='date', parse_dates=True).dropna()\n",
    "\n",
    "file_path = Path(\"../data/goog_daily_splits.csv\")\n",
    "goog_df = pd.read_csv(file_path, index_col='date', parse_dates=True).dropna()\n",
    "\n",
    "file_path = Path(\"../data/meta_daily_splits.csv\")\n",
    "meta_df = pd.read_csv(file_path, index_col='date', parse_dates=True).dropna()\n",
    "\n",
    "file_path = Path(\"../data/nvda_daily_splits.csv\")\n",
    "nvda_df = pd.read_csv(file_path, index_col='date', parse_dates=True).dropna()\n",
    "\n",
    "file_path = Path(\"../data/orcl_daily_splits.csv\")\n",
    "orcl_df = pd.read_csv(file_path, index_col='date', parse_dates=True).dropna()\n",
    "\n",
    "file_path = Path(\"../data/tsla_daily_splits.csv\")\n",
    "tsla_df = pd.read_csv(file_path, index_col='date', parse_dates=True).dropna()\n"
   ]
  },
  {
   "cell_type": "code",
   "execution_count": 13,
   "metadata": {},
   "outputs": [],
   "source": [
    "amzn_df = amzn_df.drop(columns=['open', 'high', 'low', 'volume'])\n",
    "goog_df = goog_df.drop(columns=['open', 'high', 'low', 'volume'])\n",
    "meta_df = meta_df.drop(columns=['open', 'high', 'low', 'volume'])\n",
    "nvda_df = nvda_df.drop(columns=['open', 'high', 'low', 'volume'])\n",
    "orcl_df = orcl_df.drop(columns=['open', 'high', 'low', 'volume'])\n",
    "tsla_df = tsla_df.drop(columns=['open', 'high', 'low', 'volume'])"
   ]
  },
  {
   "cell_type": "code",
   "execution_count": 14,
   "metadata": {},
   "outputs": [
    {
     "data": {
      "text/html": [
       "<div>\n",
       "<style scoped>\n",
       "    .dataframe tbody tr th:only-of-type {\n",
       "        vertical-align: middle;\n",
       "    }\n",
       "\n",
       "    .dataframe tbody tr th {\n",
       "        vertical-align: top;\n",
       "    }\n",
       "\n",
       "    .dataframe thead th {\n",
       "        text-align: right;\n",
       "    }\n",
       "</style>\n",
       "<table border=\"1\" class=\"dataframe\">\n",
       "  <thead>\n",
       "    <tr style=\"text-align: right;\">\n",
       "      <th></th>\n",
       "      <th>close</th>\n",
       "    </tr>\n",
       "    <tr>\n",
       "      <th>date</th>\n",
       "      <th></th>\n",
       "    </tr>\n",
       "  </thead>\n",
       "  <tbody>\n",
       "    <tr>\n",
       "      <th>2019-12-02</th>\n",
       "      <td>89.080000</td>\n",
       "    </tr>\n",
       "    <tr>\n",
       "      <th>2019-12-02</th>\n",
       "      <td>64.496000</td>\n",
       "    </tr>\n",
       "    <tr>\n",
       "      <th>2019-12-02</th>\n",
       "      <td>22.324667</td>\n",
       "    </tr>\n",
       "    <tr>\n",
       "      <th>2019-12-02</th>\n",
       "      <td>55.430000</td>\n",
       "    </tr>\n",
       "    <tr>\n",
       "      <th>2019-12-02</th>\n",
       "      <td>199.700000</td>\n",
       "    </tr>\n",
       "    <tr>\n",
       "      <th>2019-12-02</th>\n",
       "      <td>5.231250</td>\n",
       "    </tr>\n",
       "    <tr>\n",
       "      <th>2019-12-03</th>\n",
       "      <td>88.498000</td>\n",
       "    </tr>\n",
       "    <tr>\n",
       "      <th>2019-12-03</th>\n",
       "      <td>64.764000</td>\n",
       "    </tr>\n",
       "    <tr>\n",
       "      <th>2019-12-03</th>\n",
       "      <td>22.413333</td>\n",
       "    </tr>\n",
       "    <tr>\n",
       "      <th>2019-12-03</th>\n",
       "      <td>54.590000</td>\n",
       "    </tr>\n",
       "  </tbody>\n",
       "</table>\n",
       "</div>"
      ],
      "text/plain": [
       "                 close\n",
       "date                  \n",
       "2019-12-02   89.080000\n",
       "2019-12-02   64.496000\n",
       "2019-12-02   22.324667\n",
       "2019-12-02   55.430000\n",
       "2019-12-02  199.700000\n",
       "2019-12-02    5.231250\n",
       "2019-12-03   88.498000\n",
       "2019-12-03   64.764000\n",
       "2019-12-03   22.413333\n",
       "2019-12-03   54.590000"
      ]
     },
     "execution_count": 14,
     "metadata": {},
     "output_type": "execute_result"
    }
   ],
   "source": [
    "combined_df = pd.concat([amzn_df, goog_df, meta_df, nvda_df, orcl_df, tsla_df],\n",
    "                        axis=\"index\",\n",
    "                        join=\"inner\"\n",
    "                        ).sort_index()\n",
    "\n",
    "combined_df.head(10)"
   ]
  },
  {
   "cell_type": "code",
   "execution_count": 26,
   "metadata": {},
   "outputs": [
    {
     "data": {
      "text/html": [
       "<div>\n",
       "<style scoped>\n",
       "    .dataframe tbody tr th:only-of-type {\n",
       "        vertical-align: middle;\n",
       "    }\n",
       "\n",
       "    .dataframe tbody tr th {\n",
       "        vertical-align: top;\n",
       "    }\n",
       "\n",
       "    .dataframe thead th {\n",
       "        text-align: right;\n",
       "    }\n",
       "</style>\n",
       "<table border=\"1\" class=\"dataframe\">\n",
       "  <thead>\n",
       "    <tr style=\"text-align: right;\">\n",
       "      <th></th>\n",
       "      <th>close</th>\n",
       "      <th>daily_pct_change</th>\n",
       "    </tr>\n",
       "    <tr>\n",
       "      <th>date</th>\n",
       "      <th></th>\n",
       "      <th></th>\n",
       "    </tr>\n",
       "  </thead>\n",
       "  <tbody>\n",
       "    <tr>\n",
       "      <th>2019-12-02</th>\n",
       "      <td>89.080000</td>\n",
       "      <td>NaN</td>\n",
       "    </tr>\n",
       "    <tr>\n",
       "      <th>2019-12-02</th>\n",
       "      <td>64.496000</td>\n",
       "      <td>-27.597665</td>\n",
       "    </tr>\n",
       "    <tr>\n",
       "      <th>2019-12-02</th>\n",
       "      <td>22.324667</td>\n",
       "      <td>-65.385967</td>\n",
       "    </tr>\n",
       "    <tr>\n",
       "      <th>2019-12-02</th>\n",
       "      <td>55.430000</td>\n",
       "      <td>148.290381</td>\n",
       "    </tr>\n",
       "    <tr>\n",
       "      <th>2019-12-02</th>\n",
       "      <td>199.700000</td>\n",
       "      <td>260.274220</td>\n",
       "    </tr>\n",
       "  </tbody>\n",
       "</table>\n",
       "</div>"
      ],
      "text/plain": [
       "                 close  daily_pct_change\n",
       "date                                    \n",
       "2019-12-02   89.080000               NaN\n",
       "2019-12-02   64.496000        -27.597665\n",
       "2019-12-02   22.324667        -65.385967\n",
       "2019-12-02   55.430000        148.290381\n",
       "2019-12-02  199.700000        260.274220"
      ]
     },
     "execution_count": 26,
     "metadata": {},
     "output_type": "execute_result"
    }
   ],
   "source": [
    "amzn_df['daily_pct_change'] = amzn_df['close'].pct_change() * 100\n",
    "goog_df['daily_pct_change'] = goog_df['close'].pct_change() * 100\n",
    "meta_df['daily_pct_change'] = meta_df['close'].pct_change() * 100\n",
    "nvda_df['daily_pct_change'] = nvda_df['close'].pct_change() * 100\n",
    "orcl_df['daily_pct_change'] = orcl_df['close'].pct_change() * 100\n",
    "tsla_df['daily_pct_change'] = tsla_df['close'].pct_change() * 100\n",
    "\n",
    "combined_df['daily_pct_change'] = combined_df['close'].pct_change() * 100\n",
    "\n",
    "combined_df.head(5)"
   ]
  },
  {
   "cell_type": "code",
   "execution_count": 33,
   "metadata": {},
   "outputs": [
    {
     "data": {
      "text/plain": [
       "<Axes: title={'center': 'AMZN Close Weekly Percent Change'}, xlabel='Day of the Week', ylabel='Daily % Change'>"
      ]
     },
     "execution_count": 33,
     "metadata": {},
     "output_type": "execute_result"
    },
    {
     "data": {
      "image/png": "[encoded data removed]",
      "text/plain": [
       "<Figure size 1000x500 with 1 Axes>"
      ]
     },
     "metadata": {},
     "output_type": "display_data"
    }
   ],
   "source": [
    "amzn_dw_fig = amzn_df['daily_pct_change'].groupby(amzn_df.index.isocalendar().day).mean().plot(kind='bar', figsize=(10, 5))\n",
    "amzn_dw_fig.set_title(\"AMZN Close Weekly Percent Change\")\n",
    "amzn_dw_fig.set_xlabel(\"Day of the Week\")\n",
    "amzn_dw_fig.set_ylabel(\"Daily % Change\")\n",
    "\n",
    "tick_locaitons = np.arange(0, 5, 1)\n",
    "amzn_dw_fig.set_xticks(tick_locaitons, ['Mon', 'Tue', 'Wed', 'Thu', 'Fri'])\n",
    "amzn_dw_fig.yaxis.set_major_formatter(PercentFormatter(decimals='2'))\n",
    "amzn_dw_fig\n",
    "# plt.xticks(tick_locaitons, ['Mon', 'Tue', 'Wed', 'Thu', 'Fri'])\n",
    "# plt.gca().yaxis.set_major_formatter(PercentFormatter(1))\n",
    "# plt.show()"
   ]
  },
  {
   "cell_type": "code",
   "execution_count": null,
   "metadata": {},
   "outputs": [],
   "source": []
  }
 ],
 "metadata": {
  "kernelspec": {
   "display_name": "dev",
   "language": "python",
   "name": "python3"
  },
  "language_info": {
   "codemirror_mode": {
    "name": "ipython",
    "version": 3
   },
   "file_extension": ".py",
   "mimetype": "text/x-python",
   "name": "python",
   "nbconvert_exporter": "python",
   "pygments_lexer": "ipython3",
   "version": "3.10.15"
  }
 },
 "nbformat": 4,
 "nbformat_minor": 2
}
